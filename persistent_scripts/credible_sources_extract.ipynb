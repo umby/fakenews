{
 "cells": [
  {
   "cell_type": "code",
   "execution_count": 1,
   "metadata": {
    "collapsed": true
   },
   "outputs": [],
   "source": [
    "import requests\n",
    "import time\n",
    "import datetime\n",
    "import schedule\n",
    "import os\n",
    "import json\n",
    "import newspaper"
   ]
  },
  {
   "cell_type": "code",
   "execution_count": 2,
   "metadata": {
    "collapsed": true
   },
   "outputs": [],
   "source": [
    "def send_alert_message():\n",
    "    return requests.post(\n",
    "        \"https://api.mailgun.net/v3/sandboxba85a9310ad64d3998761e86206d868f.mailgun.org/messages\",\n",
    "        auth=(\"api\", \"key-5e11abc6288b38c6dcaeb2934f835a42\"),\n",
    "        data={\"from\": \"Mailgun Sandbox <postmaster@sandboxba85a9310ad64d3998761e86206d868f.mailgun.org>\",\n",
    "              \"to\": \"Brennan Borlaug <borlaug13@gmail.com>\",\n",
    "              \"subject\": \"Real News Extract Script Halted\",\n",
    "              \"text\": \"credible_sources_extract.ipynb is no longer running on ec2-instance\"})"
   ]
  },
  {
   "cell_type": "code",
   "execution_count": 3,
   "metadata": {
    "collapsed": true
   },
   "outputs": [],
   "source": [
    "urls=['https://newsapi.org/v1/articles?source=independent&sortBy=top&apiKey=69ba1408fe9b4ffb821fe13f4cf56244',\n",
    "      'https://newsapi.org/v1/articles?source=bbc-news&sortBy=top&apiKey=69ba1408fe9b4ffb821fe13f4cf56244',\n",
    "      'https://newsapi.org/v1/articles?source=reuters&sortBy=top&apiKey=69ba1408fe9b4ffb821fe13f4cf56244',\n",
    "      'https://newsapi.org/v1/articles?source=the-wall-street-journal&sortBy=top&apiKey=69ba1408fe9b4ffb821fe13f4cf56244',\n",
    "      'https://newsapi.org/v1/articles?source=the-washington-post&sortBy=top&apiKey=69ba1408fe9b4ffb821fe13f4cf56244',\n",
    "      'https://newsapi.org/v1/articles?source=the-new-york-times&sortBy=top&apiKey=69ba1408fe9b4ffb821fe13f4cf56244',\n",
    "      'https://newsapi.org/v1/articles?source=national-geographic&sortBy=top&apiKey=69ba1408fe9b4ffb821fe13f4cf56244',\n",
    "      'https://newsapi.org/v1/articles?source=usa-today&sortBy=top&apiKey=69ba1408fe9b4ffb821fe13f4cf56244']"
   ]
  },
  {
   "cell_type": "code",
   "execution_count": 4,
   "metadata": {
    "collapsed": false
   },
   "outputs": [],
   "source": [
    "def extract_articles():\n",
    "    print('Extracting...')\n",
    "    for url in urls:\n",
    "        r = requests.get(url)\n",
    "        source = url.replace('https://newsapi.org/v1/articles?source=','').replace('&sortBy=top&apiKey=69ba1408fe9b4ffb821fe13f4cf56244','')\n",
    "        print('--{}...'.format(source))\n",
    "        filename = '/ebs_volume/data/Credible/{0}/articles/{1}/api.txt'.format(source, date)\n",
    "        os.makedirs(os.path.dirname(filename), exist_ok=True)\n",
    "        \n",
    "        with open(filename, 'w') as f:\n",
    "            json.dump(json.loads(r.text), f)\n",
    "            \n",
    "        with open(filename) as f:\n",
    "                jdata = json.load(f)\n",
    "                jdata2=jdata['articles']\n",
    "\n",
    "        for i in range(0,5):\n",
    "            r=jdata2[i]['url']\n",
    "            link = newspaper.Article(r)\n",
    "            link.download()\n",
    "            html = link.html\n",
    "            if link.is_downloaded:\n",
    "                link.parse()\n",
    "                date_longform = '{0}-2017'.format(date)\n",
    "                article = {}\n",
    "                article[\"html\"] = html\n",
    "                article[\"title\"] = link.title\n",
    "                article[\"url\"] = link.url\n",
    "                article[\"date\"] = date_longform\n",
    "                article[\"source\"] = source\n",
    "                article[\"text\"] = link.text\n",
    "                article[\"images\"] = list(link.images)\n",
    "                article[\"videos\"] = link.movies\n",
    "                count=i+1\n",
    "                filename = '/ebs_volume/data/Credible/{0}/articles/{1}/article_{2}.txt'.format(source, date, count)\n",
    "                os.makedirs(os.path.dirname(filename), exist_ok=True)\n",
    "                with open(filename, 'w',encoding=\"utf8\",newline='') as file:\n",
    "                    json.dump(article, file)\n",
    "            \n",
    "    print('Finished')\n",
    "    return None"
   ]
  },
  {
   "cell_type": "code",
   "execution_count": null,
   "metadata": {
    "collapsed": false
   },
   "outputs": [
    {
     "name": "stdout",
     "output_type": "stream",
     "text": [
      "Extracting...\n",
      "--independent...\n",
      "--bbc-news...\n",
      "--reuters...\n",
      "--the-wall-street-journal...\n",
      "--the-washington-post...\n",
      "--the-new-york-times...\n",
      "--national-geographic...\n",
      "--usa-today...\n",
      "Finished\n"
     ]
    }
   ],
   "source": [
    "schedule.every().day.at(\"4:00\").do(extract_articles)\n",
    "while True:\n",
    "    try:\n",
    "        date = (datetime.datetime.now() - datetime.timedelta(days=1)).strftime(\"%m-%d\") #accounts for UTC\n",
    "        schedule.run_pending()\n",
    "        time.sleep(60)\n",
    "    except:\n",
    "        send_alert_message()\n",
    "        print(\"Error...\")\n",
    "        break"
   ]
  }
 ],
 "metadata": {
  "kernelspec": {
   "display_name": "Python 3",
   "language": "python",
   "name": "python3"
  },
  "language_info": {
   "codemirror_mode": {
    "name": "ipython",
    "version": 3
   },
   "file_extension": ".py",
   "mimetype": "text/x-python",
   "name": "python",
   "nbconvert_exporter": "python",
   "pygments_lexer": "ipython3",
   "version": "3.6.0"
  }
 },
 "nbformat": 4,
 "nbformat_minor": 2
}
