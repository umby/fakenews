{
 "cells": [
  {
   "cell_type": "code",
   "execution_count": 9,
   "metadata": {
    "collapsed": true
   },
   "outputs": [],
   "source": [
    "import newspaper\n",
    "import requests\n",
    "import schedule\n",
    "import time\n",
    "import datetime\n",
    "import os\n",
    "import json"
   ]
  },
  {
   "cell_type": "code",
   "execution_count": 10,
   "metadata": {
    "collapsed": true
   },
   "outputs": [],
   "source": [
    "def send_alert_message():\n",
    "    return requests.post(\n",
    "        \"https://api.mailgun.net/v3/sandboxba85a9310ad64d3998761e86206d868f.mailgun.org/messages\",\n",
    "        auth=(\"api\", \"key-5e11abc6288b38c6dcaeb2934f835a42\"),\n",
    "        data={\"from\": \"Mailgun Sandbox <postmaster@sandboxba85a9310ad64d3998761e86206d868f.mailgun.org>\",\n",
    "              \"to\": \"Brennan Borlaug <borlaug13@gmail.com>\",\n",
    "              \"subject\": \"Additional Credible Source Extract Script Halted\",\n",
    "              \"text\": \"additional_credible_extract.ipynb is no longer running on ec2-instance\"})"
   ]
  },
  {
   "cell_type": "code",
   "execution_count": 11,
   "metadata": {
    "collapsed": false
   },
   "outputs": [],
   "source": [
    "def extract_articles():\n",
    "    sites = [u'http://www.latimes.com/', u'http://www.bostonglobe.com/', u'http://www.nature.com/', u'http://www.scientificamerican.com/']\n",
    "    for site in sites:\n",
    "        paper = newspaper.build(site)\n",
    "        source = site.replace(\"http://www.\",\"\").replace(\".com/\", \"\")\n",
    "        i=0\n",
    "        for link in paper.articles:\n",
    "            if i<10:\n",
    "                link.download()\n",
    "                html = link.html\n",
    "                link.parse()\n",
    "                pubdate = str(link.publish_date)\n",
    "                if date in pubdate:\n",
    "                    date_longform = '{0}-2017'.format(date)\n",
    "                    title = link.title\n",
    "                    article = {}\n",
    "                    article[\"html\"] = html\n",
    "                    article[\"title\"] = title\n",
    "                    article[\"url\"] = link.url\n",
    "                    article[\"date\"] = date_longform\n",
    "                    article[\"source\"] = source\n",
    "                    article[\"text\"] = link.text\n",
    "                    article[\"images\"] = list(link.images)\n",
    "                    article[\"videos\"] = list(link.movies)\n",
    "\n",
    "                    i+=1\n",
    "                    filename = '/ebs_volume/data/Credible/{0}/articles/{1}/article_{2}.txt'.format(source, date, i)\n",
    "                    os.makedirs(os.path.dirname(filename), exist_ok=True)\n",
    "                    with open(filename, 'w',encoding=\"utf8\",newline='') as file:\n",
    "                        json.dump(article, file)\n",
    "    print('Finished')\n",
    "    return None"
   ]
  },
  {
   "cell_type": "code",
   "execution_count": null,
   "metadata": {
    "collapsed": false
   },
   "outputs": [
    {
     "name": "stdout",
     "output_type": "stream",
     "text": [
      "Error...\n"
     ]
    }
   ],
   "source": [
    "schedule.every().day.at(\"4:00\").do(extract_articles)\n",
    "while True:\n",
    "    try:\n",
    "        date = (datetime.datetime.now() - datetime.timedelta(days=1)).strftime(\"%m-%d\") #accounts for UTC\n",
    "        schedule.run_pending()\n",
    "        time.sleep(60)\n",
    "    except:\n",
    "        send_alert_message()\n",
    "        print(\"Error...\")\n",
    "        break"
   ]
  }
 ],
 "metadata": {
  "kernelspec": {
   "display_name": "Python 3",
   "language": "python",
   "name": "python3"
  },
  "language_info": {
   "codemirror_mode": {
    "name": "ipython",
    "version": 3
   },
   "file_extension": ".py",
   "mimetype": "text/x-python",
   "name": "python",
   "nbconvert_exporter": "python",
   "pygments_lexer": "ipython3",
   "version": "3.6.0"
  }
 },
 "nbformat": 4,
 "nbformat_minor": 2
}
