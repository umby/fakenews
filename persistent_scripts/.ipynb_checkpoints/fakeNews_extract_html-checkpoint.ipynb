{
 "cells": [
  {
   "cell_type": "code",
   "execution_count": null,
   "metadata": {
    "collapsed": true
   },
   "outputs": [],
   "source": [
    "import requests\n",
    "import os\n",
    "import json\n",
    "from bs4 import BeautifulSoup\n",
    "import schedule\n",
    "import datetime\n",
    "import newspaper\n",
    "import time"
   ]
  },
  {
   "cell_type": "code",
   "execution_count": null,
   "metadata": {
    "collapsed": true
   },
   "outputs": [],
   "source": [
    "def send_alert_message():\n",
    "    return requests.post(\n",
    "        \"https://api.mailgun.net/v3/sandboxba85a9310ad64d3998761e86206d868f.mailgun.org/messages\",\n",
    "        auth=(\"api\", \"key-5e11abc6288b38c6dcaeb2934f835a42\"),\n",
    "        data={\"from\": \"Mailgun Sandbox <postmaster@sandboxba85a9310ad64d3998761e86206d868f.mailgun.org>\",\n",
    "              \"to\": \"Brennan Borlaug <borlaug13@gmail.com>\",\n",
    "              \"subject\": \"FakeNews Extract Script Halted\",\n",
    "              \"text\": \"fakeNews_extract_html.ipynb is no longer running on ec2-instance\"})"
   ]
  },
  {
   "cell_type": "code",
   "execution_count": 3,
   "metadata": {
    "collapsed": false
   },
   "outputs": [],
   "source": [
    "urls = []\n",
    "\n",
    "with open('fakeNewsSites.txt') as infile:\n",
    "    for line in infile:\n",
    "        url = ('http://' + line).replace('\\n','')\n",
    "        urls.append(url)\n",
    "\n",
    "def extract_articles():\n",
    "    print('Extracting...')\n",
    "    for url in urls:\n",
    "        r = requests.get(url)\n",
    "        source = url.replace('http://','').replace('.com','').replace('.org', '').replace('.us', '').replace('.me', '').replace('.net', '')\n",
    "        print('--{}...'.format(source))\n",
    "        filename = '/ebs_volume/data/notCredible/{0}/{1}.html'.format(source, date)\n",
    "        os.makedirs(os.path.dirname(filename), exist_ok=True)\n",
    "        \n",
    "        with open(filename, 'w') as outfile:\n",
    "            outfile.write(r.text) #writes out HTML for backup\n",
    "            \n",
    "        soup = BeautifulSoup(r.text, 'lxml')\n",
    "        \n",
    "        links = []\n",
    "        i=0\n",
    "\n",
    "        for html_link in soup.find_all('a', {'rel': 'bookmark'}):\n",
    "            url = html_link.get('href')\n",
    "            if url not in links:\n",
    "                links.append(url)\n",
    "\n",
    "        for link in links:\n",
    "            try:\n",
    "                link = newspaper.Article(link)\n",
    "                link.download()\n",
    "                html = link.html\n",
    "                link.parse()\n",
    "                pubdate = str(link.publish_date)\n",
    "                if date in pubdate:\n",
    "                    date_longform = '{0}-2017'.format(date)\n",
    "                    title = link.title\n",
    "                    article = {}\n",
    "                    article[\"html\"] = html\n",
    "                    article[\"title\"] = title\n",
    "                    article[\"url\"] = link.url\n",
    "                    article[\"date\"] = date_longform\n",
    "                    article[\"source\"] = source\n",
    "                    article[\"text\"] = link.text\n",
    "                    article[\"images\"] = list(link.images)\n",
    "                    article[\"videos\"] = link.movies\n",
    "\n",
    "                    outfile = '/ebs_volume/data/notCredible/{0}/articles/{1}/article{2}.txt'.format(source,date,i)\n",
    "                    os.makedirs(os.path.dirname(outfile), exist_ok=True)\n",
    "                    i+=1\n",
    "\n",
    "                    with open(outfile, 'w') as f:\n",
    "                        json.dump(article, f)\n",
    "            except:\n",
    "                pass\n",
    "        \n",
    "    print(\"Finished\")\n",
    "    return None"
   ]
  },
  {
   "cell_type": "code",
   "execution_count": null,
   "metadata": {
    "collapsed": false
   },
   "outputs": [],
   "source": [
    "schedule.every().day.at(\"4:00\").do(extract_articles)\n",
    "while True:\n",
    "    try:\n",
    "        date = (datetime.datetime.now() - datetime.timedelta(days=1)).strftime(\"%m-%d\") #accounts for UTC\n",
    "        schedule.run_pending()\n",
    "        time.sleep(60)\n",
    "    except:\n",
    "        send_alert_message()\n",
    "        print(\"Error...\")\n",
    "        break"
   ]
  },
  {
   "cell_type": "code",
   "execution_count": null,
   "metadata": {
    "collapsed": true
   },
   "outputs": [],
   "source": []
  }
 ],
 "metadata": {
  "kernelspec": {
   "display_name": "Python 3",
   "language": "python",
   "name": "python3"
  },
  "language_info": {
   "codemirror_mode": {
    "name": "ipython",
    "version": 3
   },
   "file_extension": ".py",
   "mimetype": "text/x-python",
   "name": "python",
   "nbconvert_exporter": "python",
   "pygments_lexer": "ipython3",
   "version": "3.6.0"
  }
 },
 "nbformat": 4,
 "nbformat_minor": 2
}
