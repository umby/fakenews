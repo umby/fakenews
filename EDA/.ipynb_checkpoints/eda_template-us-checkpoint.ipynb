{
 "cells": [
  {
   "cell_type": "code",
   "execution_count": 1,
   "metadata": {
    "collapsed": false
   },
   "outputs": [
    {
     "name": "stderr",
     "output_type": "stream",
     "text": [
      "/home/ubuntu/anaconda3/lib/python3.6/site-packages/sklearn/cross_validation.py:44: DeprecationWarning: This module was deprecated in version 0.18 in favor of the model_selection module into which all the refactored classes and functions are moved. Also note that the interface of the new CV iterators are different from that of this module. This module will be removed in 0.20.\n",
      "  \"This module will be removed in 0.20.\", DeprecationWarning)\n"
     ]
    }
   ],
   "source": [
    "import os\n",
    "import json\n",
    "import pandas as pd\n",
    "import numpy as np\n",
    "from sklearn.cross_validation import train_test_split\n",
    "from sklearn.pipeline import Pipeline\n",
    "from sklearn.cross_validation import KFold\n",
    "from sklearn.metrics import confusion_matrix, f1_score, accuracy_score\n",
    "from sklearn.feature_extraction.text import CountVectorizer\n",
    "from sklearn.naive_bayes import MultinomialNB\n",
    "\n",
    "from nltk.tokenize import word_tokenize, sent_tokenize\n",
    "from nltk.corpus import stopwords\n",
    "stop = set(stopwords.words('english'))\n",
    "from string import punctuation\n",
    "from collections import Counter\n",
    "import re\n",
    "import requests\n",
    "from datetime import datetime\n",
    "#from tqdm import tqdm\n",
    "from matplotlib import pyplot as plt\n",
    "%matplotlib inline\n",
    "pd.options.mode.chained_assignment = None"
   ]
  },
  {
   "cell_type": "code",
   "execution_count": null,
   "metadata": {
    "collapsed": false
   },
   "outputs": [],
   "source": []
  },
  {
   "cell_type": "code",
   "execution_count": 2,
   "metadata": {
    "collapsed": true
   },
   "outputs": [],
   "source": [
    "cred_fp = '/ebs_volume/data/Credible/'\n",
    "ncred_fp = '/ebs_volume/data/notCredible/'"
   ]
  },
  {
   "cell_type": "code",
   "execution_count": 3,
   "metadata": {
    "collapsed": true
   },
   "outputs": [],
   "source": [
    "articles = pd.DataFrame(columns=('label',\n",
    "                                 'text',\n",
    "                                 'title',\n",
    "                                 'date',\n",
    "                                 'source',\n",
    "                                 'images',\n",
    "                                 'videos',\n",
    "                                 'url'))\n",
    "i = 0    \n",
    "for root, dirs, files in os.walk(cred_fp):\n",
    "    for file in files:\n",
    "        if file.endswith(\".txt\") and 'api' not in file:\n",
    "             curr_file = os.path.join(root, file)\n",
    "             #print curr_file\n",
    "             with open(curr_file) as json_file:\n",
    "                try:\n",
    "                    data = json.load(json_file)\n",
    "                    articles.loc[i] = [0,data[\"text\"],data[\"title\"],data[\"date\"],data[\"source\"],data[\"images\"],data[\"videos\"],data[\"url\"]]\n",
    "                    i+=1\n",
    "                except ValueError:\n",
    "                    continue\n",
    "\n",
    "for root, dirs, files in os.walk(ncred_fp):\n",
    "    for file in files:\n",
    "        if file.endswith(\".txt\") and 'api' not in file:\n",
    "             curr_file = os.path.join(root, file)\n",
    "             #print curr_file\n",
    "             with open(curr_file) as json_file:\n",
    "                try:\n",
    "                    data = json.load(json_file)\n",
    "                    articles.loc[i] = [1,data[\"text\"],data[\"title\"],data[\"date\"],data[\"source\"],data[\"images\"],data[\"videos\"],data[\"url\"]]\n",
    "                    i+=1\n",
    "                except ValueError:\n",
    "                    continue"
   ]
  },
  {
   "cell_type": "code",
   "execution_count": 4,
   "metadata": {
    "collapsed": false
   },
   "outputs": [
    {
     "name": "stdout",
     "output_type": "stream",
     "text": [
      "train data shape: (3311, 8)\n",
      "test data shape: (828, 8)\n"
     ]
    }
   ],
   "source": [
    "train, test = train_test_split(articles, test_size = 0.2)\n",
    "print(\"train data shape:\", train.shape)\n",
    "print(\"test data shape:\", test.shape)"
   ]
  },
  {
   "cell_type": "code",
   "execution_count": 5,
   "metadata": {
    "collapsed": false
   },
   "outputs": [
    {
     "data": {
      "text/plain": [
       "3228"
      ]
     },
     "execution_count": 5,
     "metadata": {},
     "output_type": "execute_result"
    }
   ],
   "source": [
    "len(articles[articles[\"label\"]==1.])"
   ]
  },
  {
   "cell_type": "code",
   "execution_count": 6,
   "metadata": {
    "collapsed": false
   },
   "outputs": [
    {
     "data": {
      "text/plain": [
       "911"
      ]
     },
     "execution_count": 6,
     "metadata": {},
     "output_type": "execute_result"
    }
   ],
   "source": [
    "len(articles[articles[\"label\"]==0.])"
   ]
  },
  {
   "cell_type": "code",
   "execution_count": 7,
   "metadata": {
    "collapsed": false
   },
   "outputs": [
    {
     "data": {
      "text/html": [
       "<div>\n",
       "<table border=\"1\" class=\"dataframe\">\n",
       "  <thead>\n",
       "    <tr style=\"text-align: right;\">\n",
       "      <th></th>\n",
       "      <th>label</th>\n",
       "      <th>text</th>\n",
       "      <th>title</th>\n",
       "      <th>date</th>\n",
       "      <th>source</th>\n",
       "      <th>images</th>\n",
       "      <th>videos</th>\n",
       "      <th>url</th>\n",
       "    </tr>\n",
       "  </thead>\n",
       "  <tbody>\n",
       "    <tr>\n",
       "      <th>0</th>\n",
       "      <td>0.0</td>\n",
       "      <td>View Images An uncrewed Dragon capsule makes t...</td>\n",
       "      <td>SpaceX Plans to Send People to the Moon in 201...</td>\n",
       "      <td>02-28-2017</td>\n",
       "      <td>national-geographic</td>\n",
       "      <td>[http://news.nationalgeographic.com/etc/design...</td>\n",
       "      <td>[https://www.youtube.com/embed/VJxvExL0pU4]</td>\n",
       "      <td>http://news.nationalgeographic.com/2017/02/spa...</td>\n",
       "    </tr>\n",
       "    <tr>\n",
       "      <th>1</th>\n",
       "      <td>0.0</td>\n",
       "      <td>Watch: Impatient Elephant Disobeys Railway Rul...</td>\n",
       "      <td>Watch a Young Elephant Make a Surprising Railr...</td>\n",
       "      <td>02-28-2017</td>\n",
       "      <td>national-geographic</td>\n",
       "      <td>[http://pmdvod.nationalgeographic.com/NG_Video...</td>\n",
       "      <td>[]</td>\n",
       "      <td>http://news.nationalgeographic.com/2017/02/ele...</td>\n",
       "    </tr>\n",
       "    <tr>\n",
       "      <th>2</th>\n",
       "      <td>0.0</td>\n",
       "      <td>View Images An advanced laser imaging techniqu...</td>\n",
       "      <td>This May Be Our Best Idea of What a Dinosaur R...</td>\n",
       "      <td>02-28-2017</td>\n",
       "      <td>national-geographic</td>\n",
       "      <td>[http://news.nationalgeographic.com/etc/design...</td>\n",
       "      <td>[]</td>\n",
       "      <td>http://news.nationalgeographic.com/2017/02/anc...</td>\n",
       "    </tr>\n",
       "    <tr>\n",
       "      <th>3</th>\n",
       "      <td>0.0</td>\n",
       "      <td>WATCH: Visitors at Badaling Wildlife Park brea...</td>\n",
       "      <td>Bear Attacks Car In Chinese Zoo Famous For Tig...</td>\n",
       "      <td>02-28-2017</td>\n",
       "      <td>national-geographic</td>\n",
       "      <td>[http://pmdvod.nationalgeographic.com/NG_Video...</td>\n",
       "      <td>[https://www.youtube.com/embed/9xNzNqq-0n0?rel=0]</td>\n",
       "      <td>http://news.nationalgeographic.com/2017/02/bea...</td>\n",
       "    </tr>\n",
       "    <tr>\n",
       "      <th>4</th>\n",
       "      <td>0.0</td>\n",
       "      <td>View Images Participants at the Slav and Vikin...</td>\n",
       "      <td>How to Eat Like a Viking</td>\n",
       "      <td>02-28-2017</td>\n",
       "      <td>national-geographic</td>\n",
       "      <td>[http://news.nationalgeographic.com/content/da...</td>\n",
       "      <td>[https://www.youtube.com/embed/oNEW4qPacGw]</td>\n",
       "      <td>http://news.nationalgeographic.com/2017/02/eat...</td>\n",
       "    </tr>\n",
       "  </tbody>\n",
       "</table>\n",
       "</div>"
      ],
      "text/plain": [
       "   label                                               text  \\\n",
       "0    0.0  View Images An uncrewed Dragon capsule makes t...   \n",
       "1    0.0  Watch: Impatient Elephant Disobeys Railway Rul...   \n",
       "2    0.0  View Images An advanced laser imaging techniqu...   \n",
       "3    0.0  WATCH: Visitors at Badaling Wildlife Park brea...   \n",
       "4    0.0  View Images Participants at the Slav and Vikin...   \n",
       "\n",
       "                                               title        date  \\\n",
       "0  SpaceX Plans to Send People to the Moon in 201...  02-28-2017   \n",
       "1  Watch a Young Elephant Make a Surprising Railr...  02-28-2017   \n",
       "2  This May Be Our Best Idea of What a Dinosaur R...  02-28-2017   \n",
       "3  Bear Attacks Car In Chinese Zoo Famous For Tig...  02-28-2017   \n",
       "4                           How to Eat Like a Viking  02-28-2017   \n",
       "\n",
       "                source                                             images  \\\n",
       "0  national-geographic  [http://news.nationalgeographic.com/etc/design...   \n",
       "1  national-geographic  [http://pmdvod.nationalgeographic.com/NG_Video...   \n",
       "2  national-geographic  [http://news.nationalgeographic.com/etc/design...   \n",
       "3  national-geographic  [http://pmdvod.nationalgeographic.com/NG_Video...   \n",
       "4  national-geographic  [http://news.nationalgeographic.com/content/da...   \n",
       "\n",
       "                                              videos  \\\n",
       "0        [https://www.youtube.com/embed/VJxvExL0pU4]   \n",
       "1                                                 []   \n",
       "2                                                 []   \n",
       "3  [https://www.youtube.com/embed/9xNzNqq-0n0?rel=0]   \n",
       "4        [https://www.youtube.com/embed/oNEW4qPacGw]   \n",
       "\n",
       "                                                 url  \n",
       "0  http://news.nationalgeographic.com/2017/02/spa...  \n",
       "1  http://news.nationalgeographic.com/2017/02/ele...  \n",
       "2  http://news.nationalgeographic.com/2017/02/anc...  \n",
       "3  http://news.nationalgeographic.com/2017/02/bea...  \n",
       "4  http://news.nationalgeographic.com/2017/02/eat...  "
      ]
     },
     "execution_count": 7,
     "metadata": {},
     "output_type": "execute_result"
    }
   ],
   "source": [
    "articles.head()"
   ]
  },
  {
   "cell_type": "code",
   "execution_count": 8,
   "metadata": {
    "collapsed": false
   },
   "outputs": [
    {
     "name": "stdout",
     "output_type": "stream",
     "text": [
      "articles shape: (4139, 8)\n",
      "articles shape: (3236, 8)\n",
      "articles shape: (3124, 9)\n"
     ]
    }
   ],
   "source": [
    "\n",
    "print('articles shape:', articles.shape)\n",
    "\n",
    "# remove duplicate description columns\n",
    "articles = articles.drop_duplicates('text')\n",
    "# remove rows with empty descriptions\n",
    "articles = articles[~articles['text'].isnull()]\n",
    "print('articles shape:', articles.shape)\n",
    "articles['len'] = articles['text'].map(len)\n",
    "\n",
    "articles = articles[articles.len > 140]\n",
    "articles.reset_index(inplace=True)\n",
    "articles.drop('index', inplace=True, axis=1)\n",
    "print('articles shape:', articles.shape)"
   ]
  },
  {
   "cell_type": "code",
   "execution_count": 9,
   "metadata": {
    "collapsed": true
   },
   "outputs": [],
   "source": [
    "\n",
    "\n",
    "#break the descriptions into sentences and then break the sentences into tokens\n",
    "#remove punctuation and stop words\n",
    "#lowercase the tokens\n",
    "def tokenizer(text):\n",
    "    try:\n",
    "        tokens_ = [word_tokenize(sent) for sent in sent_tokenize(text)]\n",
    "        \n",
    "        tokens = []\n",
    "        for token_by_sent in tokens_:\n",
    "            tokens += token_by_sent\n",
    "\n",
    "        tokens = list(filter(lambda t: t.lower() not in stop, tokens))\n",
    "        tokens = list(filter(lambda t: t not in punctuation, tokens))\n",
    "        tokens = list(filter(lambda t: t not in [u\"'s\", u\"n't\", u\"...\", u\"''\", u'``', \n",
    "                                            u'\\u2014', u'\\u2026', u'\\u2013'], tokens))\n",
    "        filtered_tokens = []\n",
    "        for token in tokens:\n",
    "            if re.search('[a-zA-Z]', token):\n",
    "                filtered_tokens.append(token)\n",
    "\n",
    "        filtered_tokens = list(map(lambda token: token.lower(), filtered_tokens))\n",
    "\n",
    "        return filtered_tokens\n",
    "    except Error as e:\n",
    "        print(e)"
   ]
  },
  {
   "cell_type": "code",
   "execution_count": 10,
   "metadata": {
    "collapsed": false
   },
   "outputs": [],
   "source": [
    "articles['tokens'] = articles['text'].map(tokenizer)"
   ]
  },
  {
   "cell_type": "code",
   "execution_count": 11,
   "metadata": {
    "collapsed": false
   },
   "outputs": [
    {
     "name": "stdout",
     "output_type": "stream",
     "text": [
      "text: View Images An uncrewed Dragon capsule makes the journey to the International Space Station. The human-ready version has yet to fly in space.\n",
      "\n",
      "Photograph by NASA\n",
      "\n",
      "In a surprising and somewhat secretive press briefing, Elon Musk announced today that his company SpaceX intends to fly two paying passengers to the moon by late 2018. The pair reportedly approached SpaceX with the idea and have paid the company a “significant deposit.”\n",
      "\n",
      "As envisioned, the mission would lift off from Pad 39A at NASA’s Kennedy Space Center in Cape Canaveral, Florida—the same launch pad from which the Apollo missions blasted off more than four decades ago, delivering astronauts into lunar orbit and onto the moon’s surface. The SpaceX passengers wouldn’t walk on the moon, though; the trip would slingshot them around the moon before returning to Earth.\n",
      "\n",
      "“This presents an opportunity for humans to return to deep space for the first time in 45 years and they will travel faster and further into the Solar System than any before them,” SpaceX said in a statement.\n",
      "\n",
      "WATCH: Tour the SpaceX Dragon Crew Capsule\n",
      "\n",
      "\n",
      "\n",
      "With its anticipated launch date pegged to next year, the SpaceX plan is an audacious moonshot, contingent upon efficient technology development and reliable funding. But there’s no doubt that sending humans back to the moon would be exciting, whenever and however it happens.\n",
      "\n",
      "Cool. So who’s going?\n",
      "\n",
      "It’s still a mystery. The lunar tourists are two private citizens whom Musk declined to identify. But according to the Associated Press, they apparently know one another—which is good, because being stuffed in a space capsule with someone for a week would be difficult under the best of circumstances.\n",
      "\n",
      "How will these private citizens get to the moon?\n",
      "\n",
      "The plan for now is for the mystery pair to hitch a ride aboard a next-generation version of SpaceX’s Dragon capsule, which is already in service carrying un-piloted cargo missions to the International Space Station.\n",
      "\n",
      "The crew-compatible Dragon 2 capsule, which will fly autonomously, is still in the design and testing phase. SpaceX intends to test the Dragon 2 later this year and send humans to the International Space Station aboard it in mid-2018.\n",
      "\n",
      "If all goes to plan, the moon mission could launch in late 2018. After leaving Earth’s orbit, the Dragon 2 would loop around the moon and briefly venture into deeper space before returning home. The SpaceX itinerary suggests the trip will last about a week and cover as much as 400,000 miles, giving new meaning to the concept of frequent flier miles.\n",
      "\n",
      "However, given the company’s somewhat loose relationship with deadlines, some critics wonder whether a human Dragon mission will occur when Musk says it will. There’s also the issue of getting the capsule into space. To lift something as weighty as a crewed Dragon 2 capsule, SpaceX will need its Falcon Heavy rocket, an as-yet unproven vehicle that for years has repeatedly missed its scheduled debut dates.\n",
      "\n",
      "Has SpaceX flown anything to the moon before?\n",
      "\n",
      "Nope. The company has been ferrying goods to and from the ISS since 2012, and Musk recently announced an ambitious strategy for sending people to Mars in the near future.\n",
      "\n",
      "If SpaceX does indeed achieve its goal of ferrying people to the moon in late 2018, it will be the first time humans have visited the immediate lunar neighborhood since Apollo 17, which flew in 1972.\n",
      "\n",
      "What sort of training will private passengers need to fly?\n",
      "\n",
      "It’s unclear at this point, but one of the reasons Musk declined to identify the passengers is because they can’t fly until they’ve completed a series of health checkups and training regimens.\n",
      "\n",
      "Astronauts preparing for missions aboard the International Space Station are in exceptionally good physical condition. They undergo a litany of physical examinations and train for the challenges of microgravity using a variety of simulators, including submerged replicas of the space station.\n",
      "\n",
      "What does NASA make of this development?\n",
      "\n",
      "In an official statement, NASA says it “commends its industry partners for reaching higher,” and that burgeoning public-private collaboration will “free the agency to focus on developing the next-generation rocket, spacecraft and systems to go beyond the moon and sustain deep space exploration.”\n",
      "\n",
      "Musk has said that he prioritizes collaboration with NASA, and that if the agency wishes to send its own astronauts to the moon aboard a Dragon 2 capsule, they could displace the private passengers on the capsule’s maiden moon voyage.\n",
      "\n",
      "What could possibly go wrong?\n",
      "\n",
      "The interpersonal and psychological challenges associated with deep space missions are also an active area of research, and let’s just say that it’s not usually acceptable to vote a disagreeable team member off the island once your spaceship is en route.\n",
      "tokens: ['view', 'images', 'uncrewed', 'dragon', 'capsule', 'makes', 'journey', 'international', 'space', 'station', 'human-ready', 'version', 'yet', 'fly', 'space', 'photograph', 'nasa', 'surprising', 'somewhat', 'secretive', 'press', 'briefing', 'elon', 'musk', 'announced', 'today', 'company', 'spacex', 'intends', 'fly', 'two', 'paying', 'passengers', 'moon', 'late', 'pair', 'reportedly', 'approached', 'spacex', 'idea', 'paid', 'company', '“significant', 'deposit.”', 'envisioned', 'mission', 'would', 'lift', 'pad', '39a', 'nasa’s', 'kennedy', 'space', 'center', 'cape', 'canaveral', 'florida—the', 'launch', 'pad', 'apollo', 'missions', 'blasted', 'four', 'decades', 'ago', 'delivering', 'astronauts', 'lunar', 'orbit', 'onto', 'moon’s', 'surface', 'spacex', 'passengers', 'wouldn’t', 'walk', 'moon', 'though', 'trip', 'would', 'slingshot', 'around', 'moon', 'returning', 'earth', '“this', 'presents', 'opportunity', 'humans', 'return', 'deep', 'space', 'first', 'time', 'years', 'travel', 'faster', 'solar', 'system', 'spacex', 'said', 'statement', 'watch', 'tour', 'spacex', 'dragon', 'crew', 'capsule', 'anticipated', 'launch', 'date', 'pegged', 'next', 'year', 'spacex', 'plan', 'audacious', 'moonshot', 'contingent', 'upon', 'efficient', 'technology', 'development', 'reliable', 'funding', 'there’s', 'doubt', 'sending', 'humans', 'back', 'moon', 'would', 'exciting', 'whenever', 'however', 'happens', 'cool', 'who’s', 'going', 'it’s', 'still', 'mystery', 'lunar', 'tourists', 'two', 'private', 'citizens', 'musk', 'declined', 'identify', 'according', 'associated', 'press', 'apparently', 'know', 'one', 'another—which', 'good', 'stuffed', 'space', 'capsule', 'someone', 'week', 'would', 'difficult', 'best', 'circumstances', 'private', 'citizens', 'get', 'moon', 'plan', 'mystery', 'pair', 'hitch', 'ride', 'aboard', 'next-generation', 'version', 'spacex’s', 'dragon', 'capsule', 'already', 'service', 'carrying', 'un-piloted', 'cargo', 'missions', 'international', 'space', 'station', 'crew-compatible', 'dragon', 'capsule', 'fly', 'autonomously', 'still', 'design', 'testing', 'phase', 'spacex', 'intends', 'test', 'dragon', 'later', 'year', 'send', 'humans', 'international', 'space', 'station', 'aboard', 'mid-2018', 'goes', 'plan', 'moon', 'mission', 'could', 'launch', 'late', 'leaving', 'earth’s', 'orbit', 'dragon', 'would', 'loop', 'around', 'moon', 'briefly', 'venture', 'deeper', 'space', 'returning', 'home', 'spacex', 'itinerary', 'suggests', 'trip', 'last', 'week', 'cover', 'much', 'miles', 'giving', 'new', 'meaning', 'concept', 'frequent', 'flier', 'miles', 'however', 'given', 'company’s', 'somewhat', 'loose', 'relationship', 'deadlines', 'critics', 'wonder', 'whether', 'human', 'dragon', 'mission', 'occur', 'musk', 'says', 'there’s', 'also', 'issue', 'getting', 'capsule', 'space', 'lift', 'something', 'weighty', 'crewed', 'dragon', 'capsule', 'spacex', 'need', 'falcon', 'heavy', 'rocket', 'as-yet', 'unproven', 'vehicle', 'years', 'repeatedly', 'missed', 'scheduled', 'debut', 'dates', 'spacex', 'flown', 'anything', 'moon', 'nope', 'company', 'ferrying', 'goods', 'iss', 'since', 'musk', 'recently', 'announced', 'ambitious', 'strategy', 'sending', 'people', 'mars', 'near', 'future', 'spacex', 'indeed', 'achieve', 'goal', 'ferrying', 'people', 'moon', 'late', 'first', 'time', 'humans', 'visited', 'immediate', 'lunar', 'neighborhood', 'since', 'apollo', 'flew', 'sort', 'training', 'private', 'passengers', 'need', 'fly', 'it’s', 'unclear', 'point', 'one', 'reasons', 'musk', 'declined', 'identify', 'passengers', 'can’t', 'fly', 'they’ve', 'completed', 'series', 'health', 'checkups', 'training', 'regimens', 'astronauts', 'preparing', 'missions', 'aboard', 'international', 'space', 'station', 'exceptionally', 'good', 'physical', 'condition', 'undergo', 'litany', 'physical', 'examinations', 'train', 'challenges', 'microgravity', 'using', 'variety', 'simulators', 'including', 'submerged', 'replicas', 'space', 'station', 'nasa', 'make', 'development', 'official', 'statement', 'nasa', 'says', '“commends', 'industry', 'partners', 'reaching', 'higher', 'burgeoning', 'public-private', 'collaboration', '“free', 'agency', 'focus', 'developing', 'next-generation', 'rocket', 'spacecraft', 'systems', 'go', 'beyond', 'moon', 'sustain', 'deep', 'space', 'exploration.”', 'musk', 'said', 'prioritizes', 'collaboration', 'nasa', 'agency', 'wishes', 'send', 'astronauts', 'moon', 'aboard', 'dragon', 'capsule', 'could', 'displace', 'private', 'passengers', 'capsule’s', 'maiden', 'moon', 'voyage', 'could', 'possibly', 'go', 'wrong', 'interpersonal', 'psychological', 'challenges', 'associated', 'deep', 'space', 'missions', 'also', 'active', 'area', 'research', 'let’s', 'say', 'it’s', 'usually', 'acceptable', 'vote', 'disagreeable', 'team', 'member', 'island', 'spaceship', 'en', 'route']\n",
      "\n",
      "text: Watch: Impatient Elephant Disobeys Railway Rules\n",
      "\n",
      "A young elephant delicately lifts the barrier blocking the railroad tracks in India's Chapramari Wildlife Sanctuary and slips under. Once across the tracks, it gingerly steps over another obstruction.\n",
      "\n",
      "“It looks as though this elephant has done this before,” says Joyce Poole, an elephant behavior expert and co-founder of Elephant Voices.\n",
      "\n",
      "Elephants have long been famous for their smarts—they have long-term memory, can use tools, and maintain complex social groups. But increasingly, elephants are being recognized for their problem-solving abilities. And this ingenuity can get them in trouble.\n",
      "\n",
      "Scientists collected proof of this in 2011, when they discovered that elephants, like humans, can have that creative “Aha!” moment. Researchers working with three Asian elephants at the National Zoo in Washington, D.C., wanted to see if the elephants would use tools to retrieve food outside their reach.\n",
      "\n",
      "The scientists first gave the animals sticks, which didn’t work because elephants lose the ability to smell with their trunk while holding something. Next, the researchers put out objects that the elephants could use as stepping stools.\n",
      "\n",
      "One elephant, a seven-year-old named Kandula, took to it. When he couldn't reach a bamboo branch laden with fruit, he rolled a cube below the treat and boosted himself up (watch the video here). When the box was taken away the elephant adapted other objects for leverage.\n",
      "\n",
      "Asian elephants, like the one seen crossing the train tracks, are increasingly threatened. Today, the population in India has shrunk to between 20,000 and 25,000 wild elephants. As their forests and savannas are depleted, elephants searching for food increasingly come into contact with humans. The results are often disastrous for both.\n",
      "\n",
      "Across Africa and Asia, electric fences have been installed to keep out the hungry beasts, which can easily destroy a farmer’s crop. This doesn’t always work. In October, Indian elephants realized that the power supply on a fence meant to keep them out of a dump was off and they broke through for a garbage feast.\n",
      "\n",
      "“Elephants are highly intelligent animals whose ability to get around human-made barriers is both a blessing and a curse,” says Nilanga Jayasinghe, an Asian elephant expert at the World Wildlife Fund. She’s working to develop an early warning system in countries like India that will allow conservationists to \"stay one step ahead of the elephants” and intervene in dangerous situations before elephants or humans get hurt. (Learn about one text-based system.)\n",
      "\n",
      "These problem-solving abilities are especially dangerous in India, where the trains that run through India’s national parks can be deadly. Activists say they have unsuccessfully petitioned the railway authorities to reduce the speed of trains as they pass through elephant habitat. In 2013, a herd of elephants from the same sanctuary was hit by a speeding train as they tried to cross the tracks, killing at least seven. The rest of the 40-strong herd returned after the train left and stood over their dead—a mourning ritual elephants have been studied doing.\n",
      "tokens: ['watch', 'impatient', 'elephant', 'disobeys', 'railway', 'rules', 'young', 'elephant', 'delicately', 'lifts', 'barrier', 'blocking', 'railroad', 'tracks', 'india', 'chapramari', 'wildlife', 'sanctuary', 'slips', 'across', 'tracks', 'gingerly', 'steps', 'another', 'obstruction', '“it', 'looks', 'though', 'elephant', 'done', 'says', 'joyce', 'poole', 'elephant', 'behavior', 'expert', 'co-founder', 'elephant', 'voices', 'elephants', 'long', 'famous', 'smarts—they', 'long-term', 'memory', 'use', 'tools', 'maintain', 'complex', 'social', 'groups', 'increasingly', 'elephants', 'recognized', 'problem-solving', 'abilities', 'ingenuity', 'get', 'trouble', 'scientists', 'collected', 'proof', 'discovered', 'elephants', 'like', 'humans', 'creative', '“aha', 'moment', 'researchers', 'working', 'three', 'asian', 'elephants', 'national', 'zoo', 'washington', 'd.c.', 'wanted', 'see', 'elephants', 'would', 'use', 'tools', 'retrieve', 'food', 'outside', 'reach', 'scientists', 'first', 'gave', 'animals', 'sticks', 'didn’t', 'work', 'elephants', 'lose', 'ability', 'smell', 'trunk', 'holding', 'something', 'next', 'researchers', 'put', 'objects', 'elephants', 'could', 'use', 'stepping', 'stools', 'one', 'elephant', 'seven-year-old', 'named', 'kandula', 'took', 'could', 'reach', 'bamboo', 'branch', 'laden', 'fruit', 'rolled', 'cube', 'treat', 'boosted', 'watch', 'video', 'box', 'taken', 'away', 'elephant', 'adapted', 'objects', 'leverage', 'asian', 'elephants', 'like', 'one', 'seen', 'crossing', 'train', 'tracks', 'increasingly', 'threatened', 'today', 'population', 'india', 'shrunk', 'wild', 'elephants', 'forests', 'savannas', 'depleted', 'elephants', 'searching', 'food', 'increasingly', 'come', 'contact', 'humans', 'results', 'often', 'disastrous', 'across', 'africa', 'asia', 'electric', 'fences', 'installed', 'keep', 'hungry', 'beasts', 'easily', 'destroy', 'farmer’s', 'crop', 'doesn’t', 'always', 'work', 'october', 'indian', 'elephants', 'realized', 'power', 'supply', 'fence', 'meant', 'keep', 'dump', 'broke', 'garbage', 'feast', '“elephants', 'highly', 'intelligent', 'animals', 'whose', 'ability', 'get', 'around', 'human-made', 'barriers', 'blessing', 'curse', 'says', 'nilanga', 'jayasinghe', 'asian', 'elephant', 'expert', 'world', 'wildlife', 'fund', 'she’s', 'working', 'develop', 'early', 'warning', 'system', 'countries', 'like', 'india', 'allow', 'conservationists', 'stay', 'one', 'step', 'ahead', 'elephants”', 'intervene', 'dangerous', 'situations', 'elephants', 'humans', 'get', 'hurt', 'learn', 'one', 'text-based', 'system', 'problem-solving', 'abilities', 'especially', 'dangerous', 'india', 'trains', 'run', 'india’s', 'national', 'parks', 'deadly', 'activists', 'say', 'unsuccessfully', 'petitioned', 'railway', 'authorities', 'reduce', 'speed', 'trains', 'pass', 'elephant', 'habitat', 'herd', 'elephants', 'sanctuary', 'hit', 'speeding', 'train', 'tried', 'cross', 'tracks', 'killing', 'least', 'seven', 'rest', '40-strong', 'herd', 'returned', 'train', 'left', 'stood', 'dead—a', 'mourning', 'ritual', 'elephants', 'studied']\n",
      "\n",
      "text: View Images An advanced laser imaging technique revealed new details about the wing of the bird-like dinosaur Anchiornis, including the presence of previously unseen folds of skin in front of the elbow and behind the wrist.\n",
      "\n",
      "Photograph by Wang XL, Pittman M et al. 2017\n",
      "\n",
      "Picture a red-headed woodpecker crossed with a tiny velociraptor, and you have a good mental image of Anchiornis, a foot-high dinosaur that hails from the Late Jurassic.\n",
      "\n",
      "That’s the conclusion of scientists who examined nine specimens of this ancient animal, lighting up its previously invisible soft tissues with high-powered lasers so they could get an even better idea of the dinosaur’s true dimensions.\n",
      "\n",
      "The study shows that Anchiornis was remarkably bird-like, with drumstick-shaped legs and long forearms connected by a layer of skin called the patagium. It also had a slender tail and scaly footpads reminiscent of those on a chicken.\n",
      "\n",
      "The discovery, described today in Nature Communications, adds to mounting evidence that a variety of dinosaurs had very bird-like traits as far back as 160 million years ago.\n",
      "\n",
      "“Anchiornis was originally described as a bird,” says study coauthor Michael Pittman, a paleontologist at the University of Hong Kong. “But since then, different authors have provided evidence to [either] support its identity as an early bird or as a bird-like troodontid dinosaur.”\n",
      "\n",
      "According to Pittman, “the best way to refer to Anchiornis is as a basal paravian, an early member of the group of dinosaurs that includes birds and the bird-like dinosaurs that share their closest common ancestor with birds.”\n",
      "\n",
      "Fleshing Out the Past\n",
      "\n",
      "One of the biggest challenges of studying creatures that have been dead for millions of years is that, by the time we get to them, there usually isn’t much left. The skeletons paleontologists work with are almost never complete, and even well-preserved specimens can lack important context of life.\n",
      "\n",
      "Still, while Anchiornis doesn’t have nearly the name recognition of Tyrannosaurus rex, Stegosaurus, or Triceratops, in some ways we may know more about this ankle-biter’s true appearance than any other dinosaur.\n",
      "\n",
      "View Images An illustration of Anchiornis incorporates the latest details about its appearance based on multiple scientific studies.\n",
      "\n",
      "Illustration by Julius T. Csotonyi\n",
      "\n",
      "The first Anchiornis fossils were discovered in northeastern China in 2009. Thanks to more than 200 specimens found since then, we now know this genus had four wings and a ton of feathers. In 2010, a groundbreaking study of the pigment-bearing melanosomes within those feathers revealed that Anchiornis had a black and gray body with white highlights and a red crest. (Read “True-Color Dinosaur Revealed: First Full-Body Rendering.”)\n",
      "\n",
      "In the new study, Pittman and his coauthors teased out even more details about Anchiornis from its hidden tissues. More often than not, soft tissues such as organs, skin, and muscle do not make the journey through time. But sometimes, those tissues are actually still present in a fossil, they’re just invisible to the naked eye.\n",
      "\n",
      "The team used a technique called laser-stimulated fluorescence, which involves shining high-powered lasers at a fossil sample in a dark room, making it glow, and then recording which wavelengths bounce off. This method can reveal features and levels of detail in fossils that are not visible under other conditions.\n",
      "\n",
      "Laser-stimulated fluorescence “is part of a flurry of tools emerging that help us to understand the evolution of soft tissues along extinct lineages,” says John Hutchinson, a professor of evolutionary biomechanics at the Royal Veterinary College at the University of London.\n",
      "\n",
      "As someone who studies how dinosaurs moved, Hutchinson says he deeply appreciates the “beautiful anatomy” and “stunning preservation” the study provides.\n",
      "\n",
      "“I think their findings mainly add detail to our understanding of body shape, reinforcing prior conclusions, and especially refine understanding of the shape of the arms,” he says.\n",
      "\n",
      "However, Hutchinson says he’d be curious to see the laser technique used on more modern bird and crocodile fossils as a way to determine whether the technique can truly reveal three-dimensional shape out of specimens squashed into two dimensions by millions of years of pressure.\n",
      "\n",
      "Even though Pittman admits that not every fossil has the right mineralogy to react with laser light, he says that a huge inventory of fossils might yet benefit from the imaging technique.\n",
      "\n",
      "“In our opinion, it should be in the top tray of any paleontologist’s toolbox, because it can so easily expand the anatomical information available from a fossil without damaging it,” says Pittman.\n",
      "\n",
      "But Could It Fly?\n",
      "\n",
      "While questions of size, shape, and color are always interesting, another mystery has dogged this dinosaur since it was first discovered: Could the “near bird” use its feathered wings to fly?\n",
      "\n",
      "View Images Colors in this body outline of Anchiornis show which parts have been reconstructed using the laser imaging method.\n",
      "\n",
      "Illustration by Wang XL, Pittman M et al. 2017\n",
      "\n",
      "Here, too, Pittman and his coauthor’s findings may be informative. The presence of a patagium—the skin linking the upper arm to the lower—helps generate lift and is an adaptation generally thought to be necessary for gliding or flight. The now extinct pterosaurs had them, as do bats and birds that are still alive today.\n",
      "\n",
      "However, the authors note that simply having a patagium is no guarantee of lift-off, since some birds like the weka of New Zealand have them and are totally flightless.\n",
      "\n",
      "“What our work does underscore,” says Pittman, “is the broad extent to which bird-like dinosaurs were experimenting with their anatomy and functional capabilities before we had the first unequivocal gliding and flying birds.”\n",
      "tokens: ['view', 'images', 'advanced', 'laser', 'imaging', 'technique', 'revealed', 'new', 'details', 'wing', 'bird-like', 'dinosaur', 'anchiornis', 'including', 'presence', 'previously', 'unseen', 'folds', 'skin', 'front', 'elbow', 'behind', 'wrist', 'photograph', 'wang', 'xl', 'pittman', 'et', 'al', 'picture', 'red-headed', 'woodpecker', 'crossed', 'tiny', 'velociraptor', 'good', 'mental', 'image', 'anchiornis', 'foot-high', 'dinosaur', 'hails', 'late', 'jurassic', 'that’s', 'conclusion', 'scientists', 'examined', 'nine', 'specimens', 'ancient', 'animal', 'lighting', 'previously', 'invisible', 'soft', 'tissues', 'high-powered', 'lasers', 'could', 'get', 'even', 'better', 'idea', 'dinosaur’s', 'true', 'dimensions', 'study', 'shows', 'anchiornis', 'remarkably', 'bird-like', 'drumstick-shaped', 'legs', 'long', 'forearms', 'connected', 'layer', 'skin', 'called', 'patagium', 'also', 'slender', 'tail', 'scaly', 'footpads', 'reminiscent', 'chicken', 'discovery', 'described', 'today', 'nature', 'communications', 'adds', 'mounting', 'evidence', 'variety', 'dinosaurs', 'bird-like', 'traits', 'far', 'back', 'million', 'years', 'ago', '“anchiornis', 'originally', 'described', 'bird', 'says', 'study', 'coauthor', 'michael', 'pittman', 'paleontologist', 'university', 'hong', 'kong', '“but', 'since', 'different', 'authors', 'provided', 'evidence', 'either', 'support', 'identity', 'early', 'bird', 'bird-like', 'troodontid', 'dinosaur.”', 'according', 'pittman', '“the', 'best', 'way', 'refer', 'anchiornis', 'basal', 'paravian', 'early', 'member', 'group', 'dinosaurs', 'includes', 'birds', 'bird-like', 'dinosaurs', 'share', 'closest', 'common', 'ancestor', 'birds.”', 'fleshing', 'past', 'one', 'biggest', 'challenges', 'studying', 'creatures', 'dead', 'millions', 'years', 'time', 'get', 'usually', 'isn’t', 'much', 'left', 'skeletons', 'paleontologists', 'work', 'almost', 'never', 'complete', 'even', 'well-preserved', 'specimens', 'lack', 'important', 'context', 'life', 'still', 'anchiornis', 'doesn’t', 'nearly', 'name', 'recognition', 'tyrannosaurus', 'rex', 'stegosaurus', 'triceratops', 'ways', 'may', 'know', 'ankle-biter’s', 'true', 'appearance', 'dinosaur', 'view', 'images', 'illustration', 'anchiornis', 'incorporates', 'latest', 'details', 'appearance', 'based', 'multiple', 'scientific', 'studies', 'illustration', 'julius', 't.', 'csotonyi', 'first', 'anchiornis', 'fossils', 'discovered', 'northeastern', 'china', 'thanks', 'specimens', 'found', 'since', 'know', 'genus', 'four', 'wings', 'ton', 'feathers', 'groundbreaking', 'study', 'pigment-bearing', 'melanosomes', 'within', 'feathers', 'revealed', 'anchiornis', 'black', 'gray', 'body', 'white', 'highlights', 'red', 'crest', 'read', '“true-color', 'dinosaur', 'revealed', 'first', 'full-body', 'rendering.”', 'new', 'study', 'pittman', 'coauthors', 'teased', 'even', 'details', 'anchiornis', 'hidden', 'tissues', 'often', 'soft', 'tissues', 'organs', 'skin', 'muscle', 'make', 'journey', 'time', 'sometimes', 'tissues', 'actually', 'still', 'present', 'fossil', 'they’re', 'invisible', 'naked', 'eye', 'team', 'used', 'technique', 'called', 'laser-stimulated', 'fluorescence', 'involves', 'shining', 'high-powered', 'lasers', 'fossil', 'sample', 'dark', 'room', 'making', 'glow', 'recording', 'wavelengths', 'bounce', 'method', 'reveal', 'features', 'levels', 'detail', 'fossils', 'visible', 'conditions', 'laser-stimulated', 'fluorescence', '“is', 'part', 'flurry', 'tools', 'emerging', 'help', 'us', 'understand', 'evolution', 'soft', 'tissues', 'along', 'extinct', 'lineages', 'says', 'john', 'hutchinson', 'professor', 'evolutionary', 'biomechanics', 'royal', 'veterinary', 'college', 'university', 'london', 'someone', 'studies', 'dinosaurs', 'moved', 'hutchinson', 'says', 'deeply', 'appreciates', '“beautiful', 'anatomy”', '“stunning', 'preservation”', 'study', 'provides', '“i', 'think', 'findings', 'mainly', 'add', 'detail', 'understanding', 'body', 'shape', 'reinforcing', 'prior', 'conclusions', 'especially', 'refine', 'understanding', 'shape', 'arms', 'says', 'however', 'hutchinson', 'says', 'he’d', 'curious', 'see', 'laser', 'technique', 'used', 'modern', 'bird', 'crocodile', 'fossils', 'way', 'determine', 'whether', 'technique', 'truly', 'reveal', 'three-dimensional', 'shape', 'specimens', 'squashed', 'two', 'dimensions', 'millions', 'years', 'pressure', 'even', 'though', 'pittman', 'admits', 'every', 'fossil', 'right', 'mineralogy', 'react', 'laser', 'light', 'says', 'huge', 'inventory', 'fossils', 'might', 'yet', 'benefit', 'imaging', 'technique', '“in', 'opinion', 'top', 'tray', 'paleontologist’s', 'toolbox', 'easily', 'expand', 'anatomical', 'information', 'available', 'fossil', 'without', 'damaging', 'says', 'pittman', 'could', 'fly', 'questions', 'size', 'shape', 'color', 'always', 'interesting', 'another', 'mystery', 'dogged', 'dinosaur', 'since', 'first', 'discovered', 'could', '“near', 'bird”', 'use', 'feathered', 'wings', 'fly', 'view', 'images', 'colors', 'body', 'outline', 'anchiornis', 'show', 'parts', 'reconstructed', 'using', 'laser', 'imaging', 'method', 'illustration', 'wang', 'xl', 'pittman', 'et', 'al', 'pittman', 'coauthor’s', 'findings', 'may', 'informative', 'presence', 'patagium—the', 'skin', 'linking', 'upper', 'arm', 'lower—helps', 'generate', 'lift', 'adaptation', 'generally', 'thought', 'necessary', 'gliding', 'flight', 'extinct', 'pterosaurs', 'bats', 'birds', 'still', 'alive', 'today', 'however', 'authors', 'note', 'simply', 'patagium', 'guarantee', 'lift-off', 'since', 'birds', 'like', 'weka', 'new', 'zealand', 'totally', 'flightless', '“what', 'work', 'underscore', 'says', 'pittman', '“is', 'broad', 'extent', 'bird-like', 'dinosaurs', 'experimenting', 'anatomy', 'functional', 'capabilities', 'first', 'unequivocal', 'gliding', 'flying', 'birds.”']\n",
      "\n",
      "text: WATCH: Visitors at Badaling Wildlife Park break the rules by rolling down their car windows, resulting in this black bear encounter. Video courtesy Weibo/JenniferSalvatore via Storyful\n",
      "\n",
      "An open car window almost led to fatal consequences at an already controversial zoo in China.\n",
      "\n",
      "In a video filmed by a fellow zoo visitor and posted on the blogging site Weibo, a group of Asiatic black bears can be seen rushing to the open car window. Witnesses say a child was in the backseat at the time. One bear momentarily pokes its head into the back of the car, before the zoo, via loudspeaker, instructs the car to roll away.\n",
      "\n",
      "The Weibo user who uploaded the video claimed she saw the family feeding the bears from the car window. \"Before the car was attacked by the bears, there was a window open and they were feeding the black bears,\" she posted.\n",
      "\n",
      "Park officials later confirmed her allegations.\n",
      "\n",
      "At Badaling Wildlife Park in Beijing, visitors are able to drive their cars through the attractions, getting up close and personal to the wildlife. The zoo also features several circus-like attractions. Online photos show large cats jumping through hoops of fire and balancing on rolling wheels.\n",
      "\n",
      "The park has a strict policy against allowing visitors to roll down their windows, according to signs posted around the perimeter.\n",
      "\n",
      "Another sign reads: \"Treasure your life, do not leave the car.\"\n",
      "\n",
      "And they mean it.\n",
      "\n",
      "Last year, at the same zoo, a woman died after being fatally mauled by a tiger. Surveillance footage widely circulated online showed the horrifying moment a woman left her car and was attacked. The woman's mother rushed out of the car to defend her daughter. The mother died though the first woman survived.\n",
      "\n",
      "Woman Fatally Mauled By Tiger A woman was attacked by a tiger after exiting her car at the Badaling Wildlife Park in Beijing. The woman's mother lost her life in an attempted rescue.\n",
      "\n",
      "\n",
      "\n",
      "\"Lack of awareness and lack of respect for wild animals can sometimes be very expensive, and unfortunately it cost a woman her life,\" Luke Dollar, the conservation biologist who directs National Geographic's Big Cats Initiative, said at the time.\n",
      "\n",
      "Badaling has seen its fair share of tragedy. In addition to the fatal tiger incident in 2016, an employee was killed by an elephant last year, a security guard was killed by a tiger in 2014, and a man was killed by a tiger in 2009 after scaling the fence and entering its enclosure.\n",
      "\n",
      "Dollar pointed out that big cats in captivity are less likely to have a fear of humans and may associate them with food or reward, a claim in keeping with accounts that the car had been feeding the bears.\n",
      "\n",
      "As with other types of bears, black bears are typically solitary animals that socialize sparingly and usually only to mate.\n",
      "tokens: ['watch', 'visitors', 'badaling', 'wildlife', 'park', 'break', 'rules', 'rolling', 'car', 'windows', 'resulting', 'black', 'bear', 'encounter', 'video', 'courtesy', 'weibo/jennifersalvatore', 'via', 'storyful', 'open', 'car', 'window', 'almost', 'led', 'fatal', 'consequences', 'already', 'controversial', 'zoo', 'china', 'video', 'filmed', 'fellow', 'zoo', 'visitor', 'posted', 'blogging', 'site', 'weibo', 'group', 'asiatic', 'black', 'bears', 'seen', 'rushing', 'open', 'car', 'window', 'witnesses', 'say', 'child', 'backseat', 'time', 'one', 'bear', 'momentarily', 'pokes', 'head', 'back', 'car', 'zoo', 'via', 'loudspeaker', 'instructs', 'car', 'roll', 'away', 'weibo', 'user', 'uploaded', 'video', 'claimed', 'saw', 'family', 'feeding', 'bears', 'car', 'window', 'car', 'attacked', 'bears', 'window', 'open', 'feeding', 'black', 'bears', 'posted', 'park', 'officials', 'later', 'confirmed', 'allegations', 'badaling', 'wildlife', 'park', 'beijing', 'visitors', 'able', 'drive', 'cars', 'attractions', 'getting', 'close', 'personal', 'wildlife', 'zoo', 'also', 'features', 'several', 'circus-like', 'attractions', 'online', 'photos', 'show', 'large', 'cats', 'jumping', 'hoops', 'fire', 'balancing', 'rolling', 'wheels', 'park', 'strict', 'policy', 'allowing', 'visitors', 'roll', 'windows', 'according', 'signs', 'posted', 'around', 'perimeter', 'another', 'sign', 'reads', 'treasure', 'life', 'leave', 'car', 'mean', 'last', 'year', 'zoo', 'woman', 'died', 'fatally', 'mauled', 'tiger', 'surveillance', 'footage', 'widely', 'circulated', 'online', 'showed', 'horrifying', 'moment', 'woman', 'left', 'car', 'attacked', 'woman', 'mother', 'rushed', 'car', 'defend', 'daughter', 'mother', 'died', 'though', 'first', 'woman', 'survived', 'woman', 'fatally', 'mauled', 'tiger', 'woman', 'attacked', 'tiger', 'exiting', 'car', 'badaling', 'wildlife', 'park', 'beijing', 'woman', 'mother', 'lost', 'life', 'attempted', 'rescue', 'lack', 'awareness', 'lack', 'respect', 'wild', 'animals', 'sometimes', 'expensive', 'unfortunately', 'cost', 'woman', 'life', 'luke', 'dollar', 'conservation', 'biologist', 'directs', 'national', 'geographic', 'big', 'cats', 'initiative', 'said', 'time', 'badaling', 'seen', 'fair', 'share', 'tragedy', 'addition', 'fatal', 'tiger', 'incident', 'employee', 'killed', 'elephant', 'last', 'year', 'security', 'guard', 'killed', 'tiger', 'man', 'killed', 'tiger', 'scaling', 'fence', 'entering', 'enclosure', 'dollar', 'pointed', 'big', 'cats', 'captivity', 'less', 'likely', 'fear', 'humans', 'may', 'associate', 'food', 'reward', 'claim', 'keeping', 'accounts', 'car', 'feeding', 'bears', 'types', 'bears', 'black', 'bears', 'typically', 'solitary', 'animals', 'socialize', 'sparingly', 'usually', 'mate']\n",
      "\n",
      "text: View Images Participants at the Slav and Viking Festival in Wolin, Poland tend to be sticklers for authenticity. Many adorn their bodies with tattoos, and some adopt a Viking diet, slaughtering and roasting game.\n",
      "\n",
      "Photograph by David Guttenfelder, National Geographic\n",
      "\n",
      "All that marauding must have left the Vikings famished. It’s easy to envision a group of them around a table, ravenous after a long day of ransacking, devouring giant hunks of meat and hoisting horns-full of ale.\n",
      "\n",
      "But that wouldn’t quite be fair, or accurate.\n",
      "\n",
      "As tempting as it is to assume that Viking meals were crude and carnivorous, the truth is that everyday Viking fare included a range of foods that a health-minded modern person would applaud.\n",
      "\n",
      "Picture, for example, that burly, bearded warrior throwing down his sword to enjoy a tart treat similar to yogurt, or refuel with a tangle of fresh greens.\n",
      "\n",
      "“The Vikings had a wide range of food and wild herbs available to make tasty and nutritious dishes,” says Diana Bertelsen, who helped research and develop recipes for Denmark’s Ribe Viking Center—a reconstructed Viking settlement where visitors can immerse themselves in just about every aspect of Viking culture, including what and how they ate.\n",
      "\n",
      "“There are no original recipes from the Viking age available,” says Bertelsen, but “we know for certain what crops and animals were available a thousand years ago. Excavations reveal what the Vikings ate and what they imported, for instance peaches and cinnamon.”\n",
      "\n",
      "(Follow our quest to #LiveLikeAViking on Instagram.)\n",
      "\n",
      "View Images Historical interpreters bring a reconstructed longhouse to life at the Ribe Viking Center in Denmark. Meals were cooked over an open fire on a hearth, and Viking fare included salted herring, barley porridge, and boiled sheep heads.\n",
      "\n",
      "Photograph by David Guttenfelder, National Geographic\n",
      "\n",
      "Of course a specific Viking’s diet was heavily influenced by his or her location, says medieval scholar Eleanor Rosamund Barraclough. In cold, dry, coastal Scandinavia, for example, fish such as herring and salmon provided a key source of protein and were typically dried and preserved in salt.\n",
      "\n",
      "This “stockfish,” as it’s called, “is a bit like beef jerky, only fishy,” says Barraclough. “It would have been a valuable food source on long sea journeys.”\n",
      "\n",
      "Wealth also played a part in determining one’s diet, says Barraclough. “In Greenland, Vikings ate more seals, particularly on the poorer farms, while on the richer farms they ate more caribou.”\n",
      "\n",
      "Seasons, too, dictated a Viking’s daily provisions. Depending on the time of year, meals might include a wide variety of berries, turnips, cabbage and other greens—including seaweed—barley-based porridge, and flat bread made from rye. Dishes were typically simple, but “we have no reason to believe that the food was bland and tasteless,” says Bertelsen.\n",
      "\n",
      "Indeed, archaeological evidence suggests that Viking cooks were fond of flavor-enhancing ingredients like onions, garlic, coriander, and dill.\n",
      "\n",
      "Vikings also prepared special food to celebrate seasonal events. \"Boars were said to be sacrificed during the winter Yule celebration, and solemn oaths taken on their bristles,\" says Barraclough.\n",
      "\n",
      "Dairy would have made a frequent appearance in many a Viking diet. The seafaring warriors were farmers, after all, and skilled at animal husbandry. Cows and sheep did provide meat, but they also gave the Vikings a reliable supply of buttermilk, cheese, butter, and other products.\n",
      "\n",
      "In Iceland, especially, Vikings enjoyed their dairy, and often ate it in the form of skyr, a fermented, yogurt-like cheese that today is sometimes marketed as a dairy “superfood.” Viking lore mentions the creamy substance, says Barraclough, who recalls a “saga where a man hides from his enemies in a vat of skyr—which comes very specifically up to his nipples.”\n",
      "tokens: ['view', 'images', 'participants', 'slav', 'viking', 'festival', 'wolin', 'poland', 'tend', 'sticklers', 'authenticity', 'many', 'adorn', 'bodies', 'tattoos', 'adopt', 'viking', 'diet', 'slaughtering', 'roasting', 'game', 'photograph', 'david', 'guttenfelder', 'national', 'geographic', 'marauding', 'must', 'left', 'vikings', 'famished', 'it’s', 'easy', 'envision', 'group', 'around', 'table', 'ravenous', 'long', 'day', 'ransacking', 'devouring', 'giant', 'hunks', 'meat', 'hoisting', 'horns-full', 'ale', 'wouldn’t', 'quite', 'fair', 'accurate', 'tempting', 'assume', 'viking', 'meals', 'crude', 'carnivorous', 'truth', 'everyday', 'viking', 'fare', 'included', 'range', 'foods', 'health-minded', 'modern', 'person', 'would', 'applaud', 'picture', 'example', 'burly', 'bearded', 'warrior', 'throwing', 'sword', 'enjoy', 'tart', 'treat', 'similar', 'yogurt', 'refuel', 'tangle', 'fresh', 'greens', '“the', 'vikings', 'wide', 'range', 'food', 'wild', 'herbs', 'available', 'make', 'tasty', 'nutritious', 'dishes', 'says', 'diana', 'bertelsen', 'helped', 'research', 'develop', 'recipes', 'denmark’s', 'ribe', 'viking', 'center—a', 'reconstructed', 'viking', 'settlement', 'visitors', 'immerse', 'every', 'aspect', 'viking', 'culture', 'including', 'ate', '“there', 'original', 'recipes', 'viking', 'age', 'available', 'says', 'bertelsen', '“we', 'know', 'certain', 'crops', 'animals', 'available', 'thousand', 'years', 'ago', 'excavations', 'reveal', 'vikings', 'ate', 'imported', 'instance', 'peaches', 'cinnamon.”', 'follow', 'quest', 'livelikeaviking', 'instagram', 'view', 'images', 'historical', 'interpreters', 'bring', 'reconstructed', 'longhouse', 'life', 'ribe', 'viking', 'center', 'denmark', 'meals', 'cooked', 'open', 'fire', 'hearth', 'viking', 'fare', 'included', 'salted', 'herring', 'barley', 'porridge', 'boiled', 'sheep', 'heads', 'photograph', 'david', 'guttenfelder', 'national', 'geographic', 'course', 'specific', 'viking’s', 'diet', 'heavily', 'influenced', 'location', 'says', 'medieval', 'scholar', 'eleanor', 'rosamund', 'barraclough', 'cold', 'dry', 'coastal', 'scandinavia', 'example', 'fish', 'herring', 'salmon', 'provided', 'key', 'source', 'protein', 'typically', 'dried', 'preserved', 'salt', '“stockfish', 'it’s', 'called', '“is', 'bit', 'like', 'beef', 'jerky', 'fishy', 'says', 'barraclough', '“it', 'would', 'valuable', 'food', 'source', 'long', 'sea', 'journeys.”', 'wealth', 'also', 'played', 'part', 'determining', 'one’s', 'diet', 'says', 'barraclough', '“in', 'greenland', 'vikings', 'ate', 'seals', 'particularly', 'poorer', 'farms', 'richer', 'farms', 'ate', 'caribou.”', 'seasons', 'dictated', 'viking’s', 'daily', 'provisions', 'depending', 'time', 'year', 'meals', 'might', 'include', 'wide', 'variety', 'berries', 'turnips', 'cabbage', 'greens—including', 'seaweed—barley-based', 'porridge', 'flat', 'bread', 'made', 'rye', 'dishes', 'typically', 'simple', '“we', 'reason', 'believe', 'food', 'bland', 'tasteless', 'says', 'bertelsen', 'indeed', 'archaeological', 'evidence', 'suggests', 'viking', 'cooks', 'fond', 'flavor-enhancing', 'ingredients', 'like', 'onions', 'garlic', 'coriander', 'dill', 'vikings', 'also', 'prepared', 'special', 'food', 'celebrate', 'seasonal', 'events', 'boars', 'said', 'sacrificed', 'winter', 'yule', 'celebration', 'solemn', 'oaths', 'taken', 'bristles', 'says', 'barraclough', 'dairy', 'would', 'made', 'frequent', 'appearance', 'many', 'viking', 'diet', 'seafaring', 'warriors', 'farmers', 'skilled', 'animal', 'husbandry', 'cows', 'sheep', 'provide', 'meat', 'also', 'gave', 'vikings', 'reliable', 'supply', 'buttermilk', 'cheese', 'butter', 'products', 'iceland', 'especially', 'vikings', 'enjoyed', 'dairy', 'often', 'ate', 'form', 'skyr', 'fermented', 'yogurt-like', 'cheese', 'today', 'sometimes', 'marketed', 'dairy', '“superfood.”', 'viking', 'lore', 'mentions', 'creamy', 'substance', 'says', 'barraclough', 'recalls', '“saga', 'man', 'hides', 'enemies', 'vat', 'skyr—which', 'comes', 'specifically', 'nipples.”']\n",
      "\n"
     ]
    }
   ],
   "source": [
    "for text, tokens in zip(articles['text'].head(5), articles['tokens'].head(5)):\n",
    "    print('text:', text)\n",
    "    print('tokens:', tokens)\n",
    "    print() "
   ]
  },
  {
   "cell_type": "code",
   "execution_count": 16,
   "metadata": {
    "collapsed": true
   },
   "outputs": [],
   "source": [
    "def keywords(source):\n",
    "    tokens = articles[articles['source'] == source]['tokens']\n",
    "    alltokens = []\n",
    "    for token_list in tokens:\n",
    "        alltokens += token_list\n",
    "    counter = Counter(alltokens)\n",
    "    return counter.most_common(10)"
   ]
  },
  {
   "cell_type": "code",
   "execution_count": 15,
   "metadata": {
    "collapsed": false
   },
   "outputs": [
    {
     "name": "stdout",
     "output_type": "stream",
     "text": [
      "source : p\n"
     ]
    },
    {
     "ename": "KeyError",
     "evalue": "False",
     "output_type": "error",
     "traceback": [
      "\u001b[0;31m---------------------------------------------------------------------------\u001b[0m",
      "\u001b[0;31mKeyError\u001b[0m                                  Traceback (most recent call last)",
      "\u001b[0;32m<ipython-input-15-b48656a14f9d>\u001b[0m in \u001b[0;36m<module>\u001b[0;34m()\u001b[0m\n\u001b[1;32m      1\u001b[0m \u001b[0;32mfor\u001b[0m \u001b[0msource\u001b[0m \u001b[0;32min\u001b[0m \u001b[0mset\u001b[0m\u001b[0;34m(\u001b[0m\u001b[0mdata\u001b[0m\u001b[0;34m[\u001b[0m\u001b[0;34m'source'\u001b[0m\u001b[0;34m]\u001b[0m\u001b[0;34m)\u001b[0m\u001b[0;34m:\u001b[0m\u001b[0;34m\u001b[0m\u001b[0m\n\u001b[1;32m      2\u001b[0m     \u001b[0mprint\u001b[0m\u001b[0;34m(\u001b[0m\u001b[0;34m'source :'\u001b[0m\u001b[0;34m,\u001b[0m \u001b[0msource\u001b[0m\u001b[0;34m)\u001b[0m\u001b[0;34m\u001b[0m\u001b[0m\n\u001b[0;32m----> 3\u001b[0;31m     \u001b[0mprint\u001b[0m\u001b[0;34m(\u001b[0m\u001b[0;34m'top 10 keywords:'\u001b[0m\u001b[0;34m,\u001b[0m \u001b[0mkeywords\u001b[0m\u001b[0;34m(\u001b[0m\u001b[0msource\u001b[0m\u001b[0;34m)\u001b[0m\u001b[0;34m)\u001b[0m\u001b[0;34m\u001b[0m\u001b[0m\n\u001b[0m\u001b[1;32m      4\u001b[0m     \u001b[0mprint\u001b[0m\u001b[0;34m(\u001b[0m\u001b[0;34m'---'\u001b[0m\u001b[0;34m)\u001b[0m\u001b[0;34m\u001b[0m\u001b[0m\n",
      "\u001b[0;32m<ipython-input-12-8e65d9eb6292>\u001b[0m in \u001b[0;36mkeywords\u001b[0;34m(source)\u001b[0m\n\u001b[1;32m      1\u001b[0m \u001b[0;32mdef\u001b[0m \u001b[0mkeywords\u001b[0m\u001b[0;34m(\u001b[0m\u001b[0msource\u001b[0m\u001b[0;34m)\u001b[0m\u001b[0;34m:\u001b[0m\u001b[0;34m\u001b[0m\u001b[0m\n\u001b[0;32m----> 2\u001b[0;31m     \u001b[0mtokens\u001b[0m \u001b[0;34m=\u001b[0m \u001b[0mdata\u001b[0m\u001b[0;34m[\u001b[0m\u001b[0mdata\u001b[0m\u001b[0;34m[\u001b[0m\u001b[0;34m'source'\u001b[0m\u001b[0;34m]\u001b[0m \u001b[0;34m==\u001b[0m \u001b[0msource\u001b[0m\u001b[0;34m]\u001b[0m\u001b[0;34m[\u001b[0m\u001b[0;34m'tokens'\u001b[0m\u001b[0;34m]\u001b[0m\u001b[0;34m\u001b[0m\u001b[0m\n\u001b[0m\u001b[1;32m      3\u001b[0m     \u001b[0malltokens\u001b[0m \u001b[0;34m=\u001b[0m \u001b[0;34m[\u001b[0m\u001b[0;34m]\u001b[0m\u001b[0;34m\u001b[0m\u001b[0m\n\u001b[1;32m      4\u001b[0m     \u001b[0;32mfor\u001b[0m \u001b[0mtoken_list\u001b[0m \u001b[0;32min\u001b[0m \u001b[0mtokens\u001b[0m\u001b[0;34m:\u001b[0m\u001b[0;34m\u001b[0m\u001b[0m\n\u001b[1;32m      5\u001b[0m         \u001b[0malltokens\u001b[0m \u001b[0;34m+=\u001b[0m \u001b[0mtoken_list\u001b[0m\u001b[0;34m\u001b[0m\u001b[0m\n",
      "\u001b[0;31mKeyError\u001b[0m: False"
     ]
    }
   ],
   "source": [
    "for source in set(data['source']):\n",
    "    print('source :', source)\n",
    "    print('top 10 keywords:', keywords(source))\n",
    "    print('---')"
   ]
  },
  {
   "cell_type": "code",
   "execution_count": 26,
   "metadata": {
    "collapsed": true
   },
   "outputs": [],
   "source": [
    "tfidf = dict(zip(vectorizer.get_feature_names(), vectorizer.idf_))\n",
    "tfidf = pd.DataFrame(columns=['tfidf']).from_dict(dict(tfidf), orient='index')\n",
    "tfidf.columns = ['tfidf']"
   ]
  },
  {
   "cell_type": "code",
   "execution_count": 31,
   "metadata": {
    "collapsed": false
   },
   "outputs": [
    {
     "data": {
      "text/plain": [
       "Index(['tfidf'], dtype='object')"
      ]
     },
     "execution_count": 31,
     "metadata": {},
     "output_type": "execute_result"
    }
   ],
   "source": [
    "tfidf.columns"
   ]
  },
  {
   "cell_type": "code",
   "execution_count": 30,
   "metadata": {
    "collapsed": false
   },
   "outputs": [
    {
     "data": {
      "text/html": [
       "<div>\n",
       "<table border=\"1\" class=\"dataframe\">\n",
       "  <thead>\n",
       "    <tr style=\"text-align: right;\">\n",
       "      <th></th>\n",
       "      <th>tfidf</th>\n",
       "    </tr>\n",
       "  </thead>\n",
       "  <tbody>\n",
       "    <tr>\n",
       "      <th>f</th>\n",
       "      <td>5.565835</td>\n",
       "    </tr>\n",
       "    <tr>\n",
       "      <th>v</th>\n",
       "      <td>5.565835</td>\n",
       "    </tr>\n",
       "    <tr>\n",
       "      <th>p</th>\n",
       "      <td>5.314521</td>\n",
       "    </tr>\n",
       "    <tr>\n",
       "      <th>b</th>\n",
       "      <td>5.209160</td>\n",
       "    </tr>\n",
       "    <tr>\n",
       "      <th>w</th>\n",
       "      <td>5.113850</td>\n",
       "    </tr>\n",
       "    <tr>\n",
       "      <th>g</th>\n",
       "      <td>4.946796</td>\n",
       "    </tr>\n",
       "    <tr>\n",
       "      <th>u</th>\n",
       "      <td>4.872688</td>\n",
       "    </tr>\n",
       "    <tr>\n",
       "      <th>c</th>\n",
       "      <td>4.739157</td>\n",
       "    </tr>\n",
       "    <tr>\n",
       "      <th>h</th>\n",
       "      <td>4.292870</td>\n",
       "    </tr>\n",
       "    <tr>\n",
       "      <th>n</th>\n",
       "      <td>4.144449</td>\n",
       "    </tr>\n",
       "    <tr>\n",
       "      <th>r</th>\n",
       "      <td>4.127355</td>\n",
       "    </tr>\n",
       "    <tr>\n",
       "      <th>l</th>\n",
       "      <td>3.874159</td>\n",
       "    </tr>\n",
       "    <tr>\n",
       "      <th>e</th>\n",
       "      <td>3.322091</td>\n",
       "    </tr>\n",
       "  </tbody>\n",
       "</table>\n",
       "</div>"
      ],
      "text/plain": [
       "      tfidf\n",
       "f  5.565835\n",
       "v  5.565835\n",
       "p  5.314521\n",
       "b  5.209160\n",
       "w  5.113850\n",
       "g  4.946796\n",
       "u  4.872688\n",
       "c  4.739157\n",
       "h  4.292870\n",
       "n  4.144449\n",
       "r  4.127355\n",
       "l  3.874159\n",
       "e  3.322091"
      ]
     },
     "execution_count": 30,
     "metadata": {},
     "output_type": "execute_result"
    }
   ],
   "source": [
    "tfidf.sort_values(by=['tfidf'], ascending=False).head(30)"
   ]
  },
  {
   "cell_type": "code",
   "execution_count": null,
   "metadata": {
    "collapsed": true
   },
   "outputs": [],
   "source": []
  }
 ],
 "metadata": {
  "kernelspec": {
   "display_name": "Python 3",
   "language": "python",
   "name": "python3"
  },
  "language_info": {
   "codemirror_mode": {
    "name": "ipython",
    "version": 3
   },
   "file_extension": ".py",
   "mimetype": "text/x-python",
   "name": "python",
   "nbconvert_exporter": "python",
   "pygments_lexer": "ipython3",
   "version": "3.6.0"
  }
 },
 "nbformat": 4,
 "nbformat_minor": 2
}
