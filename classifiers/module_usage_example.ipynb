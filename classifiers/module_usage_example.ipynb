{
 "cells": [
  {
   "cell_type": "code",
   "execution_count": 1,
   "metadata": {
    "collapsed": false
   },
   "outputs": [],
   "source": [
    "from mnca import classify_article, extract_article"
   ]
  },
  {
   "cell_type": "code",
   "execution_count": 5,
   "metadata": {
    "collapsed": false
   },
   "outputs": [
    {
     "name": "stdout",
     "output_type": "stream",
     "text": [
      "Help on function classify_article in module mnca:\n",
      "\n",
      "classify_article(article)\n",
      "    Function accepts articles in the form of Python dictionaries\n",
      "    containing the raw text (article['text']) and title (article['title']).\n",
      "    It returns a Python dictionary containing the classification label\n",
      "    (label), probability (label_prob), and a dictionary containing the\n",
      "    word and tonal features that had the greatest impact on classification\n",
      "    (interpretation).\n",
      "\n"
     ]
    }
   ],
   "source": [
    "help(classify_article)"
   ]
  },
  {
   "cell_type": "code",
   "execution_count": 6,
   "metadata": {
    "collapsed": false
   },
   "outputs": [
    {
     "name": "stdout",
     "output_type": "stream",
     "text": [
      "Help on function extract_article in module mnca:\n",
      "\n",
      "extract_article(url)\n",
      "    Function that takes the url string of a news article and returns the\n",
      "    title and text of the article as a Python dictionary. Built on top of\n",
      "    Newspaper's article scraping & curation library.\n",
      "\n"
     ]
    }
   ],
   "source": [
    "help(extract_article)"
   ]
  },
  {
   "cell_type": "code",
   "execution_count": 11,
   "metadata": {
    "collapsed": false
   },
   "outputs": [
    {
     "data": {
      "text/plain": [
       "{'interpretation': {'tone_feats': {},\n",
       "  'word_feats': ['hollywood',\n",
       "   'pedophile',\n",
       "   'infowars',\n",
       "   'pedophiles',\n",
       "   'millie',\n",
       "   'goes',\n",
       "   'belief',\n",
       "   'secret',\n",
       "   'love',\n",
       "   'thoroughly']},\n",
       " 'label': 'Non-Credible',\n",
       " 'label_prob': [0.38751170435952942, 0.6124882956404698]}"
      ]
     },
     "execution_count": 11,
     "metadata": {},
     "output_type": "execute_result"
    }
   ],
   "source": [
    "classify_article(extract_article(\"https://www.infowars.com/rainbow-snatch-goes-to-hollywood/\"))"
   ]
  },
  {
   "cell_type": "code",
   "execution_count": 8,
   "metadata": {
    "collapsed": false
   },
   "outputs": [
    {
     "data": {
      "text/plain": [
       "{'interpretation': {'tone_feats': {'convention': 'Credible'},\n",
       "  'word_feats': ['missile',\n",
       "   'launch',\n",
       "   'test',\n",
       "   'said',\n",
       "   'korean',\n",
       "   'north',\n",
       "   'korea',\n",
       "   'officials',\n",
       "   'sung',\n",
       "   'south']},\n",
       " 'label': 'Credible',\n",
       " 'label_prob': [0.73152707913333348, 0.26847292086666463]}"
      ]
     },
     "execution_count": 8,
     "metadata": {},
     "output_type": "execute_result"
    }
   ],
   "source": [
    "classify_article(extract_article(\"http://www.cnn.com/2017/04/15/asia/north-korea-missile-test/index.html\"))"
   ]
  },
  {
   "cell_type": "code",
   "execution_count": 9,
   "metadata": {
    "collapsed": false
   },
   "outputs": [
    {
     "data": {
      "text/plain": [
       "{'interpretation': {'tone_feats': {'convention': 'Credible'},\n",
       "  'word_feats': ['uber',\n",
       "   'kalanick',\n",
       "   'drivers',\n",
       "   'driver',\n",
       "   'company',\n",
       "   'customers',\n",
       "   'investors',\n",
       "   'email',\n",
       "   'said',\n",
       "   'rates']},\n",
       " 'label': 'Credible',\n",
       " 'label_prob': [0.64598486610854711, 0.354015133891455]}"
      ]
     },
     "execution_count": 9,
     "metadata": {},
     "output_type": "execute_result"
    }
   ],
   "source": [
    "classify_article(extract_article(\"http://money.cnn.com/2017/02/28/technology/uber-ceo-travis-kalanick/\"))"
   ]
  },
  {
   "cell_type": "code",
   "execution_count": 3,
   "metadata": {
    "collapsed": false
   },
   "outputs": [
    {
     "data": {
      "text/plain": [
       "{'interpretation': {'tone_feats': {'convention': 'Credible'},\n",
       "  'word_feats': ['uber',\n",
       "   'kalanick',\n",
       "   'drivers',\n",
       "   'driver',\n",
       "   'company',\n",
       "   'customers',\n",
       "   'investors',\n",
       "   'email',\n",
       "   'said',\n",
       "   'rates']},\n",
       " 'label': 'Credible',\n",
       " 'label_prob': [0.64598486610854711, 0.354015133891455]}"
      ]
     },
     "execution_count": 3,
     "metadata": {},
     "output_type": "execute_result"
    }
   ],
   "source": [
    "classify_article(extract_article(\"http://money.cnn.com/2017/02/28/technology/uber-ceo-travis-kalanick/\"))"
   ]
  },
  {
   "cell_type": "code",
   "execution_count": 4,
   "metadata": {
    "collapsed": false
   },
   "outputs": [
    {
     "data": {
      "text/plain": [
       "{'interpretation': {'tone_feats': {'convention': 'Credible',\n",
       "   'sentiment': 'Credible'},\n",
       "  'word_feats': ['shooting',\n",
       "   'players',\n",
       "   'player',\n",
       "   'rebound',\n",
       "   'percentage',\n",
       "   'percent',\n",
       "   'kevin',\n",
       "   'shots',\n",
       "   'shot',\n",
       "   'league']},\n",
       " 'label': 'Credible',\n",
       " 'label_prob': [0.56407713762016032, 0.4359228623798353]}"
      ]
     },
     "execution_count": 4,
     "metadata": {},
     "output_type": "execute_result"
    }
   ],
   "source": [
    "classify_article(extract_article(\"https://fivethirtyeight.com/features/the-case-for-russell-westbrook-mvp/\"))"
   ]
  },
  {
   "cell_type": "code",
   "execution_count": 12,
   "metadata": {
    "collapsed": false
   },
   "outputs": [
    {
     "data": {
      "text/plain": [
       "{'interpretation': {'tone_feats': {'convention': 'Non-Credible'},\n",
       "  'word_feats': ['pope',\n",
       "   'reportedly',\n",
       "   'let',\n",
       "   'yeah',\n",
       "   'laser',\n",
       "   'stone',\n",
       "   'sacrifice',\n",
       "   'francis',\n",
       "   'colors',\n",
       "   'single']},\n",
       " 'label': 'Non-Credible',\n",
       " 'label_prob': [0.46705109059867916, 0.53294890940132433]}"
      ]
     },
     "execution_count": 12,
     "metadata": {},
     "output_type": "execute_result"
    }
   ],
   "source": [
    "classify_article(extract_article(\"http://www.theonion.com/article/pope-francis-rides-st-peters-square-giant-glowing--55775\"))"
   ]
  }
 ],
 "metadata": {
  "kernelspec": {
   "display_name": "Python 3",
   "language": "python",
   "name": "python3"
  },
  "language_info": {
   "codemirror_mode": {
    "name": "ipython",
    "version": 3
   },
   "file_extension": ".py",
   "mimetype": "text/x-python",
   "name": "python",
   "nbconvert_exporter": "python",
   "pygments_lexer": "ipython3",
   "version": "3.6.0"
  }
 },
 "nbformat": 4,
 "nbformat_minor": 2
}
