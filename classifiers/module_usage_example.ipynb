{
 "cells": [
  {
   "cell_type": "code",
   "execution_count": 3,
   "metadata": {
    "collapsed": false
   },
   "outputs": [],
   "source": [
    "from mnca import classify_article, extract_article"
   ]
  },
  {
   "cell_type": "code",
   "execution_count": 5,
   "metadata": {
    "collapsed": false
   },
   "outputs": [
    {
     "name": "stdout",
     "output_type": "stream",
     "text": [
      "Help on function classify_article in module mnca:\n",
      "\n",
      "classify_article(article)\n",
      "    Function accepts articles in the form of Python dictionaries\n",
      "    containing the raw text (article['text']) and title (article['title']).\n",
      "    It returns a Python dictionary containing the classification label\n",
      "    (label), probability (label_prob), and a dictionary containing the\n",
      "    word and tonal features that had the greatest impact on classification\n",
      "    (interpretation).\n",
      "\n"
     ]
    }
   ],
   "source": [
    "help(classify_article)"
   ]
  },
  {
   "cell_type": "code",
   "execution_count": 6,
   "metadata": {
    "collapsed": false
   },
   "outputs": [
    {
     "name": "stdout",
     "output_type": "stream",
     "text": [
      "Help on function extract_article in module mnca:\n",
      "\n",
      "extract_article(url)\n",
      "    Function that takes the url string of a news article and returns the\n",
      "    title and text of the article as a Python dictionary. Built on top of\n",
      "    Newspaper's article scraping & curation library.\n",
      "\n"
     ]
    }
   ],
   "source": [
    "help(extract_article)"
   ]
  },
  {
   "cell_type": "code",
   "execution_count": null,
   "metadata": {
    "collapsed": false
   },
   "outputs": [
    {
     "data": {
      "text/plain": [
       "{'interpretation': {'tone_feats': {'sentiment': 'Non-Credible'},\n",
       "  'word_feats': ['isis',\n",
       "   'cia',\n",
       "   'article',\n",
       "   'com',\n",
       "   'sources',\n",
       "   'claiming',\n",
       "   'fact',\n",
       "   'source',\n",
       "   'expose',\n",
       "   'crazy']},\n",
       " 'label': 'Non-Credible',\n",
       " 'label_prob': [0.4253698661237903, 0.57463013387620931]}"
      ]
     },
     "execution_count": 7,
     "metadata": {},
     "output_type": "execute_result"
    }
   ],
   "source": [
    "classify_article(extract_article(\"https://www.infowars.com/top-ten-reasons-to-doubt-official-story-on-assad-poison-gas-attack/\"))"
   ]
  }
 ],
 "metadata": {
  "kernelspec": {
   "display_name": "Python 3",
   "language": "python",
   "name": "python3"
  },
  "language_info": {
   "codemirror_mode": {
    "name": "ipython",
    "version": 3
   },
   "file_extension": ".py",
   "mimetype": "text/x-python",
   "name": "python",
   "nbconvert_exporter": "python",
   "pygments_lexer": "ipython3",
   "version": "3.6.0"
  }
 },
 "nbformat": 4,
 "nbformat_minor": 2
}
